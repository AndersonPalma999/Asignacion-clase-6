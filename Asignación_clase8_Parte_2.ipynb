{
  "nbformat": 4,
  "nbformat_minor": 0,
  "metadata": {
    "colab": {
      "name": "Asignación_clase8_Parte 2.ipynb",
      "provenance": [],
      "collapsed_sections": []
    },
    "kernelspec": {
      "name": "python3",
      "display_name": "Python 3"
    },
    "language_info": {
      "name": "python"
    }
  },
  "cells": [
    {
      "cell_type": "markdown",
      "source": [
        "#Asignacion clase 8\n",
        "\n",
        "####Anderson Palma"
      ],
      "metadata": {
        "id": "KDIqFKBiDhWv"
      }
    },
    {
      "cell_type": "code",
      "source": [
        "centigrados = float(input('Ingrece °C'))\n",
        "convertir = lambda centigrados: centigrados + 273.15\n",
        "convertir(centigrados)\n"
      ],
      "metadata": {
        "colab": {
          "base_uri": "https://localhost:8080/"
        },
        "id": "FftunlJPC4gR",
        "outputId": "334185e2-464a-4951-f3d0-1accc2c40b73"
      },
      "execution_count": null,
      "outputs": [
        {
          "name": "stdout",
          "output_type": "stream",
          "text": [
            "Ingrece °C18\n"
          ]
        },
        {
          "output_type": "execute_result",
          "data": {
            "text/plain": [
              "291.15"
            ]
          },
          "metadata": {},
          "execution_count": 33
        }
      ]
    },
    {
      "cell_type": "code",
      "source": [
        "data = [1.1244,1.0644,1.122,1.138,1.02,1.011,1.098,1.0924,1.082]\n",
        "cv = lambda x: np. std (x, ddof = 1 ) / np. mean (x) * 100 \n",
        "cv(data)"
      ],
      "metadata": {
        "colab": {
          "base_uri": "https://localhost:8080/"
        },
        "id": "rAgR8y7BFeJv",
        "outputId": "3b13724b-eb9d-4160-de6f-b09e306a950e"
      },
      "execution_count": null,
      "outputs": [
        {
          "output_type": "execute_result",
          "data": {
            "text/plain": [
              "4.136248078961155"
            ]
          },
          "metadata": {},
          "execution_count": 34
        }
      ]
    },
    {
      "cell_type": "code",
      "source": [
        "from sklearn.datasets import make_blobs\n",
        "import numpy as np\n",
        "idx = np.random.randint(low=0, high=2_000_000, size=10_000)\n",
        "print(\"Media:\\t\\t\\t\", X[idx].mean())\n",
        "print(\"Desviación típica:\\t\", X[idx].std())"
      ],
      "metadata": {
        "colab": {
          "base_uri": "https://localhost:8080/"
        },
        "id": "mBv2r0TLpUo9",
        "outputId": "a91c0492-656f-47a0-f973-bd866a6489d4"
      },
      "execution_count": null,
      "outputs": [
        {
          "output_type": "stream",
          "name": "stdout",
          "text": [
            "Media:\t\t\t 0.6223754524841258\n",
            "Desviación típica:\t 6.001967506577579\n"
          ]
        }
      ]
    },
    {
      "cell_type": "code",
      "source": [
        "import numpy as np\n",
        "\n",
        "absorbancia = float(input('Ingrese el valor de absorbancia: '))\n",
        "if absorbancia ==2 :\n",
        "  print('Error, ingrese un valor valido')\n",
        "else:\n",
        "  a = 2-absorbancia\n",
        "  loga = np.log10(a)\n",
        "  antloga = 10**loga\n",
        "  print(f'El porcentaje de transmitancia es {antloga}')\n"
      ],
      "metadata": {
        "colab": {
          "base_uri": "https://localhost:8080/"
        },
        "id": "JxDNkhzzv0FR",
        "outputId": "21adb692-b0ac-4a16-97f1-0156575f280f"
      },
      "execution_count": null,
      "outputs": [
        {
          "output_type": "stream",
          "name": "stdout",
          "text": [
            "Ingrese el valor de absorbancia: 0.4\n",
            "El porcentaje de transmitancia es 1.6\n"
          ]
        }
      ]
    },
    {
      "cell_type": "code",
      "source": [
        "import math\n",
        "\n",
        "x = float(input('Ingrese su coordenada en x: '))\n",
        "y = float(input('Ingrese su coordenada en y: '))\n",
        "r = math.sqrt(x**2 + y**2)\n",
        "ang = math.atan(y//x)\n",
        "angg = math.degrees(ang)\n",
        "print('El radio es {:.1f}'.format(r))\n",
        "print(f'En engulo es {angg}°')"
      ],
      "metadata": {
        "colab": {
          "base_uri": "https://localhost:8080/"
        },
        "id": "i5a78IJW14Ag",
        "outputId": "c13293cf-b4fd-466a-cff5-36965317761f"
      },
      "execution_count": null,
      "outputs": [
        {
          "output_type": "stream",
          "name": "stdout",
          "text": [
            "Ingrese su coordenada en x: 2\n",
            "Ingrese su coordenada en y: 2\n",
            "El radio es 2.8\n",
            "En engulo es 45.0°\n"
          ]
        }
      ]
    },
    {
      "cell_type": "code",
      "source": [
        ""
      ],
      "metadata": {
        "id": "vWOqSPRxHaHX"
      },
      "execution_count": null,
      "outputs": []
    }
  ]
}