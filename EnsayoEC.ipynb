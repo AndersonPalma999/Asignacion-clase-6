{
  "nbformat": 4,
  "nbformat_minor": 0,
  "metadata": {
    "colab": {
      "name": "EnsayoEC.ipynb",
      "provenance": []
    },
    "kernelspec": {
      "name": "python3",
      "display_name": "Python 3"
    },
    "language_info": {
      "name": "python"
    }
  },
  "cells": [
    {
      "cell_type": "markdown",
      "source": [
        "#LA IMPORTANCIA DE LA ESTADÍSTICA ESPACIAL\n",
        "###Estudiante: Anderson Palma\n",
        "\n",
        "####INTRODUCCIÓN\n",
        "\n",
        "Los análisis que se pueden realizar nada más con mirar un mapa son determinantes a la hora de tomar decisiones de diversos tipos que se aplican a la vida real. Es aquí donde cobra mayor importancia el trabajo de la estadística espacial pues nos ayudará a responder preguntas relacionadas con el área de estudio como: ¿dónde están concentrados los cultivos de caña de azúcar en el país? o ¿cuáles son las regiones con menos lluvia que propicien el cultivo de algunas semillas?\n",
        "\n",
        "\n",
        "De lo anterior que, se convierta en algo esencial entender más sobre la estadística espacial y los análisis que se pueden hacer a través de ella, tarea que se desarrolla en el presente ensayo.\n",
        "DESARROLLO\n",
        "A continuación, se ampliarán algunos elementos que llevan al conocimiento sobre el tema en concreto: los datos espaciales, sus clases, su análisis y algunos problemas que pueden encontrarse en su estudio.\n",
        "\n",
        "\n",
        "##¿En qué consisten los datos espaciales?\n",
        "El primer capítulo del libro Estadísticas espaciales. Manual del usuario para Windows y Unix denominado Introducción a los datos espaciales y estadísticas espaciales presenta inicialmente que los datos espaciales consisten en mediciones u observaciones tomadas en lugares específicos o dentro de regiones específicas. Este tipo de bases de datos incluyen ubicaciones que pueden ser puntos o áreas referenciadas. Para la ubicación del primer tipo de datos son útiles las coordenadas geográficas: longitud y latitud. Por otro lado, los datos de referencia de área son observaciones específicas de una región. Los tipos de ubicaciones espaciales que se pueden encontrar son: regular o irregular.\n",
        "##Clases de datos espaciales\n",
        "Una vez se tiene un concepto más claro sobre lo que son los datos espaciales, se procede a realizar el análisis de tres clases de datos espaciales: datos geoestadísticos, datos reticulares y patrones de puntos espaciales.\n",
        "\n",
        "##•\tDatos geoestadísticos\n",
        "Son conocidos también como datos de campo aleatorios y consisten en mediciones tomadas en lugares fijos. Un ejemplo de estos datos de tipo continuo es la lluvia registrada en estaciones meteorológicas. En esta clase también se incluyen los datos geoestadísticos discretos.\n",
        "\n",
        "##•\tDatos reticulares\n",
        "Se definen como observaciones asociadas con regiones espaciales, donde las regiones pueden estar alejadas regular o irregularmente.\n",
        "\n",
        "##•\tPatrones de puntos espaciales\n",
        "Estos nacen en el momento en que las ubicaciones mismas son la variable de interés, son un número finito de ubicaciones observadas en una región espacial. Elementos como la aleatoriedad espacial, el agrupamiento o la regularidad se analizan en este tipo de datos. Un ejemplo de dicha clase es la ubicación de los epicentros de los terremotos.\n",
        "\n",
        "##Análisis de datos espaciales\n",
        "Una diferencia entre el análisis de datos espaciales y el análisis de datos típico es la inclusión de información espacial en modelos y predicciones. Los datos espaciales se pueden dividir en dos componentes principales de variación de la siguiente manera: variación a gran escala y variación a pequeña escala.\n",
        "Frente a la exactitud de la información se debe mencionar que los datos espaciales pueden tener errores de medición y precisión limitada, aquellos que tienen que ver con el registro de ubicaciones puntuales o la representación de áreas. En línea con lo anterior se debe tener en cuenta que los modelos de dependencia espacial son dependientes del área y que pueden verse afectados por factores como la cobertura espacial desigual durante el muestreo.\n",
        "En datos espaciales es necesario tener presente la estacionariedad que hace referencia a alguna forma de invariancia de ubicación de los datos. Existen dos tipos de estacionariedad: débil y de los incrementos, la primera requiere una media contante y una covarianza (independiente de la ubicación), la segunda requiere que la varianza de los incrementos sea independiente de la ubicación. Un elemento final es la isotropía, que se refiere al hecho de que la covarianza presenta la misma variación en todas las direcciones. \n",
        "La escala es un problema en el análisis de datos espacial, con el análisis del conjunto de datos espaciales se puede examinar patrones a diferentes escalas estudiando los problemas que puedan existir. Estos dependen de la resolución con la que los datos han sido reunidos y analizados.\n",
        "\n",
        "##A MANERA DE CONCLUSIÓN\n",
        "Cuando se habla de estadística espacial parece más sencillo de entender si se presentan ejemplos que se aplican a la vida diaria o un área de trabajo de interés. Sin embargo, es necesario conocer en qué consiste, las ventajas que ofrece y las dificultades que su análisis puede tener. En este documento se presentaron algunos elementos iniciales para el estudio de la estadística espacial como las clases de datos que se pueden encontrar: datos geoestadísticos, datos reticulares y patrones de puntos espaciales.\n",
        "\n",
        "##BIBLIOGRAFÍA\n",
        "Kaluzny, S., Vega, S., Cardoso, T. y Shelly, A. (1998). S+SP ATIALSTATS User's Manual for Windows® and UNIX®. \n",
        "\n"
      ],
      "metadata": {
        "id": "DkdomyziHbRx"
      }
    }
  ]
}